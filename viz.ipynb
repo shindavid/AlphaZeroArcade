{
 "cells": [
  {
   "cell_type": "code",
   "execution_count": 24,
   "id": "b009b5c5",
   "metadata": {},
   "outputs": [
    {
     "data": {
      "application/vnd.jupyter.widget-view+json": {
       "model_id": "8fe2670dfe3a4af787709c807d0e266d",
       "version_major": 2,
       "version_minor": 0
      },
      "text/plain": [
       "interactive(children=(IntSlider(value=0, continuous_update=False, description='Snapshot:', max=19), Output()),…"
      ]
     },
     "execution_count": 24,
     "metadata": {},
     "output_type": "execute_result"
    }
   ],
   "source": [
    "import json\n",
    "import networkx as nx\n",
    "import matplotlib.pyplot as plt\n",
    "from networkx.drawing.nx_agraph import graphviz_layout\n",
    "import ipywidgets as widgets\n",
    "from IPython.display import display\n",
    "\n",
    "# Load the combined JSON file with all snapshots\n",
    "with open('graph_viz_test.json', 'r') as f:\n",
    "    graph_data = json.load(f)\n",
    "\n",
    "# Extract the list of snapshots from the JSON\n",
    "graph_snapshots = graph_data['graphs']\n",
    "\n",
    "# Function to plot a specific snapshot based on the selected index\n",
    "def plot_dag_snapshot(snapshot_index):\n",
    "    snapshot = graph_snapshots[snapshot_index]\n",
    "\n",
    "    G = nx.DiGraph()\n",
    "\n",
    "    # Add nodes\n",
    "    for node in snapshot['nodes']:\n",
    "        G.add_node(\n",
    "            node['index'], \n",
    "            N=node['N'], \n",
    "            Q=node['Q'], \n",
    "            state=node['state']\n",
    "        )\n",
    "\n",
    "    # Add edges\n",
    "    for edge in snapshot['edges']:\n",
    "        G.add_edge(\n",
    "            edge['from'], \n",
    "            edge['to'], \n",
    "            E=edge['E'], \n",
    "            action=edge['action'], \n",
    "            index=edge['index']\n",
    "        )\n",
    "\n",
    "    # Use graphviz_layout for hierarchical placement\n",
    "    pos = graphviz_layout(G, prog=\"dot\")\n",
    "\n",
    "    # Define node labels\n",
    "    node_labels = {node: f\"{data['state']}\\nN: {data['N']}\\nQ: {[f'{float(q):.2f}' for q in data['Q']]}\" for node, data in G.nodes(data=True)}\n",
    "\n",
    "    # Define edge labels (showing E and action)\n",
    "    edge_labels = {(u, v): f\"A: {data['action']}, E: {data['E']}\" for u, v, data in G.edges(data=True)}\n",
    "\n",
    "    # Clear the current plot\n",
    "    plt.figure(figsize=(12, 8))\n",
    "    \n",
    "    # Draw the graph for this snapshot\n",
    "    nx.draw(G, pos, with_labels=False, node_size=3000, node_color=\"lightblue\", font_size=10)\n",
    "    nx.draw_networkx_labels(G, pos, labels=node_labels, font_size=10, font_color=\"black\")\n",
    "\n",
    "    # Draw edge labels \n",
    "    nx.draw_networkx_edge_labels(G, pos, edge_labels=edge_labels, label_pos=0.7, font_size=8)\n",
    "\n",
    "    # Set the plot title to indicate which snapshot is being displayed\n",
    "    plt.title(f\"DAG Snapshot {snapshot_index + 1}\")\n",
    "    plt.show()\n",
    "\n",
    "# Create an interactive slider to select the snapshot index\n",
    "snapshot_slider = widgets.IntSlider(\n",
    "    value=0,\n",
    "    min=0,\n",
    "    max=len(graph_snapshots) - 1,\n",
    "    step=1,\n",
    "    description='Snapshot:',\n",
    "    continuous_update=False\n",
    ")\n",
    "\n",
    "# Display the plot for the selected snapshot whenever the slider value changes\n",
    "widgets.interactive(lambda snapshot_index: plot_dag_snapshot(snapshot_index), snapshot_index=snapshot_slider)\n",
    "\n"
   ]
  },
  {
   "cell_type": "code",
   "execution_count": null,
   "id": "96e5d928",
   "metadata": {},
   "outputs": [],
   "source": []
  }
 ],
 "metadata": {
  "kernelspec": {
   "display_name": "Python 3 (ipykernel)",
   "language": "python",
   "name": "python3"
  },
  "language_info": {
   "codemirror_mode": {
    "name": "ipython",
    "version": 3
   },
   "file_extension": ".py",
   "mimetype": "text/x-python",
   "name": "python",
   "nbconvert_exporter": "python",
   "pygments_lexer": "ipython3",
   "version": "3.10.6"
  }
 },
 "nbformat": 4,
 "nbformat_minor": 5
}
