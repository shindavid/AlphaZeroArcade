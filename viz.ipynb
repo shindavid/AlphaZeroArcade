{
 "cells": [
  {
   "cell_type": "code",
   "execution_count": 12,
   "id": "cb97560f",
   "metadata": {
    "scrolled": false
   },
   "outputs": [
    {
     "data": {
      "application/vnd.jupyter.widget-view+json": {
       "model_id": "6bcded40bcf742d0bc4478d466e22229",
       "version_major": 2,
       "version_minor": 0
      },
      "text/plain": [
       "interactive(children=(IntSlider(value=0, continuous_update=False, description='Snapshot:', max=49), Output()),…"
      ]
     },
     "execution_count": 12,
     "metadata": {},
     "output_type": "execute_result"
    }
   ],
   "source": [
    "import json\n",
    "import copy\n",
    "import networkx as nx\n",
    "import matplotlib.pyplot as plt\n",
    "from networkx.drawing.nx_agraph import graphviz_layout\n",
    "import ipywidgets as widgets\n",
    "from IPython.display import display\n",
    "\n",
    "# Load the JSON data for each snapshot into graph_snapshots (same as previous code)\n",
    "graph_snapshots = []\n",
    "for i in range(1, 51): \n",
    "    with open(f'DAGs/search_thread{i}.json', 'r') as f:\n",
    "        graph_snapshots.append(json.load(f))\n",
    "        \n",
    "# Function to plot a specific snapshot with edge labels closer to \"from\" node\n",
    "def plot_dag_snapshot(snapshot_index):\n",
    "    graph_data = graph_snapshots[snapshot_index]\n",
    "\n",
    "    # Create a directed graph for the current snapshot\n",
    "    G = nx.DiGraph()\n",
    "\n",
    "    # Add nodes with their attributes\n",
    "    for node in graph_data['nodes']:\n",
    "        G.add_node(\n",
    "            node['index'], \n",
    "            N=node['N'], \n",
    "            Q=node['Q'], \n",
    "            state=node['state']\n",
    "        )\n",
    "\n",
    "    # Add edges with their attributes\n",
    "    for edge in graph_data['edges']:\n",
    "        G.add_edge(\n",
    "            edge['from'], \n",
    "            edge['to'], \n",
    "            E=edge['E'], \n",
    "            action=edge['action'], \n",
    "            index=edge['index']\n",
    "        )\n",
    "\n",
    "    # Use graphviz_layout for hierarchical placement\n",
    "    pos = graphviz_layout(G, prog=\"dot\")\n",
    "\n",
    "    # Define node labels to display only the 'state' attribute inside each node\n",
    "    node_labels = {node: f\"{data['state']}\\nN: {data['N']}\\nQ: {[f'{float(q):.2f}' for q in data['Q']]}\" for node, data in G.nodes(data=True)}\n",
    "\n",
    "    # Define edge labels (showing E and action)\n",
    "    edge_labels = {(u, v): f\"E: {data['E']}, A: {data['action']}\" for u, v, data in G.edges(data=True)}\n",
    "\n",
    "    # Draw the graph for this snapshot\n",
    "    plt.figure(figsize=(12, 8))\n",
    "    nx.draw(G, pos, with_labels=False, node_size=3000, node_color=\"lightblue\", font_size=10)\n",
    "    nx.draw_networkx_labels(G, pos, labels=node_labels, font_size=10, font_color=\"black\")\n",
    "\n",
    "    # Adjust edge label positions to be closer to the \"from\" node\n",
    "    adjusted_edge_pos = copy.deepcopy(pos)\n",
    "    for (u, v), label in edge_labels.items():\n",
    "        # Calculate the adjusted position closer to the \"from\" node\n",
    "        x1, y1 = pos[u]\n",
    "        x2, y2 = pos[v]\n",
    "        midpoint_x = x1 * 0.9 + x2 * 0.1\n",
    "        midpoint_y = y1 * 0.9 + y2 * 0.1\n",
    "        adjusted_edge_pos[(u, v)] = (midpoint_x, midpoint_y)\n",
    "\n",
    "    # Draw edge labels with adjusted positions\n",
    "    nx.draw_networkx_edge_labels(G, adjusted_edge_pos, edge_labels=edge_labels, label_pos=0.7, font_size=8)\n",
    "\n",
    "    # Set the plot title to indicate which snapshot is being displayed\n",
    "    plt.title(f\"DAG Snapshot {snapshot_index + 1}\")\n",
    "    plt.show()\n",
    "\n",
    "# Create an interactive slider to select the snapshot index\n",
    "snapshot_slider = widgets.IntSlider(\n",
    "    value=0,\n",
    "    min=0,\n",
    "    max=len(graph_snapshots) - 1,\n",
    "    step=1,\n",
    "    description='Snapshot:',\n",
    "    continuous_update=False\n",
    ")\n",
    "\n",
    "# Display the plot for the selected snapshot whenever the slider value changes\n",
    "widgets.interactive(lambda snapshot_index: plot_dag_snapshot(snapshot_index), snapshot_index=snapshot_slider)"
   ]
  },
  {
   "cell_type": "code",
   "execution_count": null,
   "id": "b7d8f0f2",
   "metadata": {},
   "outputs": [],
   "source": []
  }
 ],
 "metadata": {
  "kernelspec": {
   "display_name": "Python 3 (ipykernel)",
   "language": "python",
   "name": "python3"
  },
  "language_info": {
   "codemirror_mode": {
    "name": "ipython",
    "version": 3
   },
   "file_extension": ".py",
   "mimetype": "text/x-python",
   "name": "python",
   "nbconvert_exporter": "python",
   "pygments_lexer": "ipython3",
   "version": "3.10.6"
  }
 },
 "nbformat": 4,
 "nbformat_minor": 5
}
