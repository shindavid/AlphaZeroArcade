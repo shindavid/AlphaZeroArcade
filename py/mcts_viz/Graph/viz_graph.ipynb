{
 "cells": [
  {
   "cell_type": "code",
   "execution_count": null,
   "id": "6a379a5b",
   "metadata": {},
   "outputs": [],
   "source": [
    "import json\n",
    "import networkx as nx\n",
    "import matplotlib.pyplot as plt\n",
    "from networkx.drawing.nx_agraph import graphviz_layout\n",
    "import ipywidgets as widgets\n",
    "from IPython.display import display\n",
    "from Graph import Graph\n",
    "\n",
    "# Load the combined JSON file with all snapshots\n",
    "with open('/home/lichensong/projects/AlphaZeroArcade/goldenfiles/mcts_tests/tictactoe_uniform.json', 'r') as f:\n",
    "    graph_data = json.load(f)\n",
    "\n",
    "# Extract the list of snapshots from the JSON\n",
    "graph_snapshots = graph_data['graphs']\n",
    "\n",
    "graph = Graph(graph_snapshots)\n",
    "\n",
    "# Create an interactive slider to select the snapshot index\n",
    "snapshot_slider = widgets.IntSlider(\n",
    "    value=0,\n",
    "    min=0,\n",
    "    max=len(graph_snapshots) - 1,\n",
    "    step=1,\n",
    "    description='Snapshot:',\n",
    "    continuous_update=False\n",
    ")\n",
    "\n",
    "# Display the plot for the selected snapshot whenever the slider value changes\n",
    "widgets.interactive(lambda index: graph.plot_snapshot(index), index=snapshot_slider)"
   ]
  },
  {
   "cell_type": "code",
   "execution_count": null,
   "id": "6ab8e01a",
   "metadata": {},
   "outputs": [],
   "source": []
  }
 ],
 "metadata": {
  "jupytext": {
   "formats": "ipynb,auto:light"
  },
  "kernelspec": {
   "display_name": "alpha",
   "language": "python",
   "name": "python3"
  },
  "language_info": {
   "codemirror_mode": {
    "name": "ipython",
    "version": 3
   },
   "file_extension": ".py",
   "mimetype": "text/x-python",
   "name": "python",
   "nbconvert_exporter": "python",
   "pygments_lexer": "ipython3",
   "version": "3.10.6"
  }
 },
 "nbformat": 4,
 "nbformat_minor": 5
}
