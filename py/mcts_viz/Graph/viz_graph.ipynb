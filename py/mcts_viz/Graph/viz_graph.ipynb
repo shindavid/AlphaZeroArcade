{
 "cells": [
  {
   "cell_type": "code",
   "execution_count": 4,
   "id": "6a379a5b",
   "metadata": {
    "lines_to_next_cell": 0
   },
   "outputs": [
    {
     "data": {
      "application/vnd.jupyter.widget-view+json": {
       "model_id": "74dd7e0eab09496bb0b0ba860e16071b",
       "version_major": 2,
       "version_minor": 0
      },
      "text/plain": [
       "interactive(children=(IntSlider(value=0, continuous_update=False, description='Snapshot:', max=19), Output()),…"
      ]
     },
     "execution_count": 4,
     "metadata": {},
     "output_type": "execute_result"
    }
   ],
   "source": [
    "import json\n",
    "import networkx as nx\n",
    "import matplotlib.pyplot as plt\n",
    "from networkx.drawing.nx_agraph import graphviz_layout\n",
    "import ipywidgets as widgets\n",
    "from IPython.display import display\n",
    "from Graph import Graph\n",
    "\n",
    "# Load the combined JSON file with all snapshots\n",
    "with open('/home/lichensong/projects/AlphaZeroArcade/goldenfiles/mcts_tests/nim_uniform.json', 'r') as f:\n",
    "    graph_data = json.load(f)\n",
    "\n",
    "# Extract the list of snapshots from the JSON\n",
    "graph_snapshots = graph_data['graphs']\n",
    "\n",
    "graph = Graph(graph_snapshots)\n",
    "\n",
    "# Create an interactive slider to select the snapshot index\n",
    "snapshot_slider = widgets.IntSlider(\n",
    "    value=0,\n",
    "    min=0,\n",
    "    max=len(graph_snapshots) - 1,\n",
    "    step=1,\n",
    "    description='Snapshot:',\n",
    "    continuous_update=False\n",
    ")\n",
    "\n",
    "# Display the plot for the selected snapshot whenever the slider value changes\n",
    "widgets.interactive(lambda index: graph.plot_snapshot(index), index=snapshot_slider)"
   ]
  },
  {
   "cell_type": "code",
   "execution_count": 5,
   "id": "3d8576c8-c8ac-4115-8aa6-110838c385ef",
   "metadata": {},
   "outputs": [
    {
     "data": {
      "application/vnd.jupyter.widget-view+json": {
       "model_id": "869c28b05b9b44d585451bb9915853a8",
       "version_major": 2,
       "version_minor": 0
      },
      "text/plain": [
       "interactive(children=(IntSlider(value=0, continuous_update=False, description='Snapshot:', max=19), Output()),…"
      ]
     },
     "execution_count": 5,
     "metadata": {},
     "output_type": "execute_result"
    }
   ],
   "source": [
    "# Load the combined JSON file with all snapshots\n",
    "with open('/home/lichensong/projects/AlphaZeroArcade/goldenfiles/mcts_tests/nim_uniform_new.json', 'r') as f:\n",
    "    graph_data = json.load(f)\n",
    "\n",
    "# Extract the list of snapshots from the JSON\n",
    "graph_snapshots = graph_data['graphs']\n",
    "\n",
    "graph = Graph(graph_snapshots)\n",
    "\n",
    "# Create an interactive slider to select the snapshot index\n",
    "snapshot_slider = widgets.IntSlider(\n",
    "    value=0,\n",
    "    min=0,\n",
    "    max=len(graph_snapshots) - 1,\n",
    "    step=1,\n",
    "    description='Snapshot:',\n",
    "    continuous_update=False\n",
    ")\n",
    "\n",
    "# Display the plot for the selected snapshot whenever the slider value changes\n",
    "widgets.interactive(lambda index: graph.plot_snapshot(index), index=snapshot_slider)"
   ]
  },
  {
   "cell_type": "code",
   "execution_count": null,
   "id": "59b17573-8c21-40c5-9091-69789f763c27",
   "metadata": {},
   "outputs": [],
   "source": []
  }
 ],
 "metadata": {
  "jupytext": {
   "formats": "ipynb,py:light"
  },
  "kernelspec": {
   "display_name": "alpha",
   "language": "python",
   "name": "python3"
  },
  "language_info": {
   "codemirror_mode": {
    "name": "ipython",
    "version": 3
   },
   "file_extension": ".py",
   "mimetype": "text/x-python",
   "name": "python",
   "nbconvert_exporter": "python",
   "pygments_lexer": "ipython3",
   "version": "3.10.6"
  }
 },
 "nbformat": 4,
 "nbformat_minor": 5
}
