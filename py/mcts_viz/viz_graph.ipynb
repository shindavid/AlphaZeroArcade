{
 "cells": [
  {
   "cell_type": "code",
   "execution_count": 5,
   "id": "396baa95-322d-4ac4-a8de-2d7e093090b8",
   "metadata": {
    "lines_to_next_cell": 2
   },
   "outputs": [
    {
     "data": {
      "application/vnd.jupyter.widget-view+json": {
       "model_id": "4c6b18157e9c43d0b4b616224b84a376",
       "version_major": 2,
       "version_minor": 0
      },
      "text/plain": [
       "interactive(children=(IntSlider(value=0, continuous_update=False, description='Snapshot:', max=39), Output()),…"
      ]
     },
     "execution_count": 5,
     "metadata": {},
     "output_type": "execute_result"
    }
   ],
   "source": [
    "#### import json\n",
    "import networkx as nx\n",
    "import matplotlib.pyplot as plt\n",
    "from networkx.drawing.nx_agraph import graphviz_layout\n",
    "import ipywidgets as widgets\n",
    "from IPython.display import display\n",
    "from Graph import Graph\n",
    "\n",
    "# Load the combined JSON file with all snapshots\n",
    "with open('/home/lichensong/projects/AlphaZeroArcade/goldenfiles/mcts_tests/nim_5_stones_log.json', 'r') as f:\n",
    "    graph_data = json.load(f)\n",
    "\n",
    "# Extract the list of snapshots from the JSON\n",
    "graph_snapshots = graph_data['graphs']\n",
    "\n",
    "graph = Graph(graph_snapshots)\n",
    "\n",
    "# Create an interactive slider to select the snapshot index\n",
    "snapshot_slider = widgets.IntSlider(\n",
    "    value=0,\n",
    "    min=0,\n",
    "    max=len(graph_snapshots) - 1,\n",
    "    step=1,\n",
    "    description='Snapshot:',\n",
    "    continuous_update=False\n",
    ")\n",
    "\n",
    "# Display the plot for the selected snapshot whenever the slider value changes\n",
    "widgets.interactive(lambda index: graph.plot_snapshot(index), index=snapshot_slider)"
   ]
  },
  {
   "cell_type": "code",
   "execution_count": null,
   "id": "75589ef2-8ae1-4125-af8f-380490792752",
   "metadata": {},
   "outputs": [],
   "source": []
  }
 ],
 "metadata": {
  "jupytext": {
   "formats": "ipynb,py:light"
  },
  "kernelspec": {
   "display_name": "Python 3 (ipykernel)",
   "language": "python",
   "name": "python3"
  },
  "language_info": {
   "codemirror_mode": {
    "name": "ipython",
    "version": 3
   },
   "file_extension": ".py",
   "mimetype": "text/x-python",
   "name": "python",
   "nbconvert_exporter": "python",
   "pygments_lexer": "ipython3",
   "version": "3.10.6"
  }
 },
 "nbformat": 4,
 "nbformat_minor": 5
}
