{
 "cells": [
  {
   "cell_type": "code",
   "execution_count": 1,
   "id": "c5c1fdad",
   "metadata": {},
   "outputs": [],
   "source": [
    "from alphazero.scripts.compute_benchmark_rating import *\n",
    "import random\n",
    "random.seed(0)"
   ]
  },
  {
   "cell_type": "code",
   "execution_count": 10,
   "id": "e856e93e",
   "metadata": {},
   "outputs": [
    {
     "name": "stderr",
     "output_type": "stream",
     "text": [
      "100%|███████████████████████████████████████████████████████████████████████████████████████████| 211/211 [08:09<00:00,  2.32s/it]\n",
      "100%|███████████████████████████████████████████████████████████████████████████████████████████| 211/211 [26:28<00:00,  7.53s/it]\n"
     ]
    }
   ],
   "source": [
    "game = 'c4'\n",
    "tag = 'benchmark'\n",
    "database_name = 'benchmarking'\n",
    "n_games = 100\n",
    "committee = BenchmarkCommittee(game, tag, database_name)\n",
    "committee.play_matches(committee.gen_matches_from_latest(latest_gen=512, n_iters=0, n_games=n_games))\n",
    "committee.play_matches(committee.gen_matches_from_latest(latest_gen=512, n_iters=100, n_games=n_games))"
   ]
  },
  {
   "cell_type": "code",
   "execution_count": 7,
   "id": "e20f3773-6a06-4ceb-a4d8-5279e162bdf9",
   "metadata": {},
   "outputs": [],
   "source": [
    "committee.compute_ratings()"
   ]
  },
  {
   "cell_type": "code",
   "execution_count": 8,
   "id": "9cfc1734-b6d3-4b82-bf1a-c0c041307867",
   "metadata": {},
   "outputs": [
    {
     "data": {
      "text/plain": [
       "{Random: 0.0,\n",
       " 1-0: -70.10043683153697,\n",
       " 2-0: -140.2012580257349,\n",
       " 3-0: 151.48436308864547,\n",
       " 4-0: 184.78084252129673,\n",
       " 6-0: 255.61340474018405,\n",
       " 7-0: 92.39016060319021,\n",
       " 8-0: -70.83326543689097}"
      ]
     },
     "execution_count": 8,
     "metadata": {},
     "output_type": "execute_result"
    }
   ],
   "source": [
    "committee.ratings"
   ]
  },
  {
   "cell_type": "code",
   "execution_count": null,
   "id": "9c038d5e-6e77-4d18-b4f9-3ef216922ea8",
   "metadata": {},
   "outputs": [],
   "source": []
  }
 ],
 "metadata": {
  "kernelspec": {
   "display_name": "Python 3 (ipykernel)",
   "language": "python",
   "name": "python3"
  },
  "language_info": {
   "codemirror_mode": {
    "name": "ipython",
    "version": 3
   },
   "file_extension": ".py",
   "mimetype": "text/x-python",
   "name": "python",
   "nbconvert_exporter": "python",
   "pygments_lexer": "ipython3",
   "version": "3.10.12"
  }
 },
 "nbformat": 4,
 "nbformat_minor": 5
}
